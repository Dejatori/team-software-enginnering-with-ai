{
 "cells": [
  {
   "cell_type": "markdown",
   "metadata": {
    "id": "YfknStK6Y1QM"
   },
   "source": [
    "# Assignment 1 - Identifying and Fixing Bugs in Code Using an LLM\n",
    "\n",
    "Welcome to the first assignment in the Generative AI for Software Development - Team Software Engineering course. In this assignment, you'll see several pieces of code containing bugs or issues. Your task is to identify and correct these errors. While it might be possible to debug each problem yourself, you'll find that using a large language model will help you tackle these challenges more efficiently, and might even bring up solutions you hadn't considered. This approach not only enhances your debugging skills but also introduces you to the practical applications of LLMs in software development. Get ready to sharpen your problem-solving abilities and delve into the world of code correction with an AI assistant by your side."
   ]
  },
  {
   "cell_type": "markdown",
   "metadata": {},
   "source": [
    "## 1 - Instructions\n",
    "\n",
    "For each exercise, you will be provided with a function/class that is intended to work correctly, except for the last exercise, which will be discussed in due course. However, each function will contain a bug or inconsistency. Your task is to write a new function that performs the same task as the original one but with all identified bugs or issues resolved. You may ask an LLM to build unittests for you or even ask it to help you solving the exercise, it is up to you! Remember that you can also use the `unittests.py` file to debug what is going on and even using an LLM to help you in this task.\n",
    "\n",
    "Each exercise comes with a set of constraints that you must adhere to. Failure to follow these guidelines will result in not passing the respective exercise.\n",
    "\n",
    "The format is as follows:\n",
    "\n",
    "The function or class requiring correction will be named, for example, `function_1`. You must write its improved version in the designated solution block, naming it `function_1_fixed`. **Do NOT** alter the function's parameters or name, as doing so will break autograder, resulting in a failure to pass the exercise.\n",
    "\n",
    "**FINAL INSTRUCTIONS**\n",
    "\n",
    "- If you have doubts, you can prompt the LLM how to run your test cases\n",
    "- If you face runtime errors, you can prompt the LLM on how to fix the errors.\n",
    "- If you are failing in the unittests, you can open the unittests.py file and ask an LLM to explain to you the tests that are being performed.\n",
    "\n",
    "**IMPORTANT NOTES ON THE AUTOGRADING SYSTEM**\n",
    "\n",
    "- The graded cells are tagged, meaning the autograder specifically looks for them when grading. Therefore, **do not delete these cells or add your solution in another cell**, as this will cause the autograder to malfunction. If you accidentally delete a cell or encounter any unusual issues with the autograder, please [refresh your workspace](https://www.coursera.org/learn/team-software-engineering-with-ai/supplement/qEB8o/optional-downloading-your-notebook-and-refreshing-your-workspace) to obtain a new copy of the assignment and place your solution in the designated solution cells.\n",
    "- The autograder **does not have access** to the **unittests** library, so **avoid importing it or using any unittest functions within a graded cell**, as this will disrupt the autograder's functionality.\n",
    "- If you face any challenges or have questions about this assignment, feel free to [join our community](https://www.coursera.org/teach/team-software-engineering-with-ai/k6snBDf0Ee-9Ig7qA4dB5w/content/item/supplement/8E5g9) and seek assistance from our mentors!"
   ]
  },
  {
   "cell_type": "code",
   "metadata": {
    "ExecuteTime": {
     "end_time": "2025-04-17T15:15:59.335621Z",
     "start_time": "2025-04-17T15:15:56.541267Z"
    }
   },
   "source": [
    "import unittests"
   ],
   "outputs": [],
   "execution_count": 1
  },
  {
   "cell_type": "markdown",
   "metadata": {
    "id": "8s_Bm9ZPbNwj"
   },
   "source": [
    "### Exercise 1 - Check if a Sentence is a Palindrome\n",
    "\n",
    "Your task in this exercise is to debug and correct the given function that checks whether a sentence is a palindrome.\n",
    "\n",
    "**Constraints**: The use of external libraries is **prohibited**."
   ]
  },
  {
   "cell_type": "code",
   "metadata": {
    "id": "lcFebKlCawf_",
    "ExecuteTime": {
     "end_time": "2025-04-17T15:21:13.555621Z",
     "start_time": "2025-04-17T15:21:13.548080Z"
    }
   },
   "source": [
    "def is_palindrome(sentence):\n",
    "    # Compare characters from both ends\n",
    "    left, right = 0, len(sentence)-1\n",
    "    while left <= right:\n",
    "        if sentence[left] != sentence[right]:\n",
    "            return False\n",
    "        left += 1\n",
    "        right -= 1\n",
    "    return True"
   ],
   "outputs": [
    {
     "data": {
      "text/plain": [
       "False"
      ]
     },
     "execution_count": 9,
     "metadata": {},
     "output_type": "execute_result"
    }
   ],
   "execution_count": 9
  },
  {
   "cell_type": "code",
   "metadata": {
    "colab": {
     "base_uri": "https://localhost:8080/"
    },
    "id": "q9UZKfMSh6Fv",
    "outputId": "948c73f7-503b-432e-8e29-a231c95f9da2",
    "tags": [
     "graded"
    ],
    "ExecuteTime": {
     "end_time": "2025-04-17T15:21:24.667874Z",
     "start_time": "2025-04-17T15:21:24.658126Z"
    }
   },
   "source": [
    "# Exercise block. Do not change the function input parameters.\n",
    "\n",
    "def is_palindrome_fixed(sentence):\n",
    "    # Compare characters from both ends\n",
    "    left, right = 0, len(sentence)-1\n",
    "    while left <= right:\n",
    "        # Check if characters are alphanumeric\n",
    "        while left < right and not sentence[left].isalnum():\n",
    "            left += 1\n",
    "        while left < right and not sentence[right].isalnum():\n",
    "            right -= 1\n",
    "\n",
    "        # Compare characters in lowercase\n",
    "        if sentence[left].lower() != sentence[right].lower():\n",
    "            return False\n",
    "        left += 1\n",
    "        right -= 1\n",
    "    return True"
   ],
   "outputs": [
    {
     "data": {
      "text/plain": [
       "True"
      ]
     },
     "execution_count": 10,
     "metadata": {},
     "output_type": "execute_result"
    }
   ],
   "execution_count": 10
  },
  {
   "cell_type": "code",
   "metadata": {
    "ExecuteTime": {
     "end_time": "2025-04-17T15:20:07.551211Z",
     "start_time": "2025-04-17T15:20:07.543594Z"
    }
   },
   "source": [
    "unittests.test_is_palindrome_fixed(is_palindrome_fixed)"
   ],
   "outputs": [
    {
     "name": "stdout",
     "output_type": "stream",
     "text": [
      "\u001B[92m All tests passed!\n"
     ]
    }
   ],
   "execution_count": 8
  },
  {
   "cell_type": "markdown",
   "metadata": {
    "id": "z2qbEBCedkPn"
   },
   "source": [
    "### Exercise 2 - Implementing Dijkstra's Algorithm\n",
    "\n",
    "This exercise involves debugging a function that implements Dijkstra's algorithm to calculate the shortest path from node 0 to every other node in a graph and outputs a dictionary with every node and its distance from 0 as well as a boolean saying whether all nodes are reachable or not. The function reads a `graph.json` file from the local directory to obtain the graph, which is **not** provided. The graph is expected to consist of exactly `20` nodes.\n",
    "\n",
    "**Instructions**: \n",
    "- The function's output must remain consistent, retaining the same order.\n",
    "\n",
    "**Constraints**: \n",
    "- Only libraries that are already imported in the exercise block may be used.\n",
    "\n",
    "**Hints**:\n",
    "- A helper function exists for deserializing a `graph.json`. You can request an LLM to outline the structure of the graph in the .json file, ensuring it can be correctly loaded by this function, and to generate some example files for testing.\n",
    "- Knowing the graph's structure allows you to ask an LLM to create some graphs fitting this structure, enabling you to test your code with various graphs.\n",
    "- Before identifying potential bugs, consider asking an LLM to explain the function's workings."
   ]
  },
  {
   "cell_type": "code",
   "metadata": {
    "ExecuteTime": {
     "end_time": "2025-04-17T15:39:33.831296Z",
     "start_time": "2025-04-17T15:39:33.826081Z"
    }
   },
   "source": [
    "from collections import defaultdict\n",
    "import json\n",
    "## Helper function - Do NOT edit or overwrite it in the solution block.\n",
    "\n",
    "# Deserialize graph from JSON\n",
    "# The graph has 20 nodes, numbered 0-19\n",
    "def deserialize_graph(filename):\n",
    "    with open(filename, 'r') as f:\n",
    "        data = json.load(f)\n",
    "    return defaultdict(list, {int(k): v for k, v in data.items()})"
   ],
   "outputs": [],
   "execution_count": 19
  },
  {
   "cell_type": "code",
   "metadata": {
    "colab": {
     "base_uri": "https://localhost:8080/"
    },
    "id": "r--D9XYydjwE",
    "outputId": "e64cda2e-05d4-476a-b599-39671032adcb",
    "ExecuteTime": {
     "end_time": "2025-04-17T15:39:37.198625Z",
     "start_time": "2025-04-17T15:39:37.192650Z"
    }
   },
   "source": [
    "import heapq\n",
    "\n",
    "def dijkstra(graph, start):\n",
    "    distances = {node: float('infinity') for node in range(20)}\n",
    "    distances[start] = 0\n",
    "    pq = [(0, start)]\n",
    "    visited = set()\n",
    "\n",
    "    while pq:\n",
    "        current_distance, current_node = heapq.heappop(pq)\n",
    "\n",
    "        if current_node in visited:\n",
    "            continue\n",
    "\n",
    "        visited.add(current_node)\n",
    "\n",
    "        for neighbor, weight in graph[current_node]:\n",
    "            distance = current_distance + weight\n",
    "            if distance < distances[neighbor]:\n",
    "                distances[neighbor] = distance\n",
    "                heapq.heappush(pq, (distance, neighbor))\n",
    "    all_nodes_visited = len(distances) == 20\n",
    "    \n",
    "    return distances, all_nodes_visited"
   ],
   "outputs": [],
   "execution_count": 20
  },
  {
   "cell_type": "code",
   "metadata": {
    "colab": {
     "base_uri": "https://localhost:8080/"
    },
    "id": "Y-Lr9GwWmYsh",
    "outputId": "777cba5b-ce35-4af2-ff98-0e4c17ac34c7",
    "tags": [
     "graded"
    ],
    "ExecuteTime": {
     "end_time": "2025-04-17T15:39:40.096353Z",
     "start_time": "2025-04-17T15:39:40.089347Z"
    }
   },
   "source": [
    "# Exercise block. Do not add or remove any library and do not add/remove any argument in the function.\n",
    "import heapq\n",
    "\n",
    "def dijkstra_fixed(graph, start):\n",
    "    # Initialize distances dictionary for all 20 nodes\n",
    "    distances = {node: float('infinity') for node in range(20)}\n",
    "    distances[start] = 0\n",
    "    pq = [(0, start)]\n",
    "    visited = set()\n",
    "\n",
    "    while pq:\n",
    "        current_distance, current_node = heapq.heappop(pq)\n",
    "\n",
    "        # Skip if we've already processed this node\n",
    "        if current_node in visited:\n",
    "            continue\n",
    "\n",
    "        visited.add(current_node)\n",
    "\n",
    "        # Process neighbors from the graph\n",
    "        for neighbor, weight in graph[current_node]:\n",
    "            distance = current_distance + weight\n",
    "            if distance < distances[neighbor]:\n",
    "                distances[neighbor] = distance\n",
    "                heapq.heappush(pq, (distance, neighbor))\n",
    "\n",
    "    # Check if all nodes are reachable (no unreachable nodes)\n",
    "    valid_path = True\n",
    "    for node in range(20):\n",
    "        # If any node has infinite distance and isn't in the unreachable list,\n",
    "        # the path is not valid\n",
    "        if distances[node] == float('infinity'):\n",
    "            # In the test cases, a node with infinite distance means it's unreachable\n",
    "            valid_path = False\n",
    "\n",
    "    return distances, valid_path"
   ],
   "outputs": [],
   "execution_count": 21
  },
  {
   "metadata": {
    "ExecuteTime": {
     "end_time": "2025-04-17T15:39:43.495336Z",
     "start_time": "2025-04-17T15:39:43.482103Z"
    }
   },
   "cell_type": "code",
   "source": [
    "# Create a sample graph with 20 nodes\n",
    "graph = {\n",
    "    \"0\": [[1, 4], [2, 3], [3, 5]],\n",
    "    \"1\": [[0, 4], [4, 2], [5, 1]],\n",
    "    \"2\": [[0, 3], [6, 8], [7, 2]],\n",
    "    \"3\": [[0, 5], [8, 3], [9, 6]],\n",
    "    \"4\": [[1, 2], [10, 7], [11, 4]],\n",
    "    \"5\": [[1, 1], [12, 5], [13, 9]],\n",
    "    \"6\": [[2, 8], [14, 3], [15, 7]],\n",
    "    \"7\": [[2, 2], [16, 5], [17, 2]],\n",
    "    \"8\": [[3, 3], [18, 4], [19, 1]],\n",
    "    \"9\": [[3, 6], [19, 8]],\n",
    "    \"10\": [[4, 7], [15, 2]],\n",
    "    \"11\": [[4, 4], [16, 3]],\n",
    "    \"12\": [[5, 5], [17, 6]],\n",
    "    \"13\": [[5, 9], [18, 7]],\n",
    "    \"14\": [[6, 3], [19, 5]],\n",
    "    \"15\": [[6, 7], [10, 2]],\n",
    "    \"16\": [[7, 5], [11, 3]],\n",
    "    \"17\": [[7, 2], [12, 6]],\n",
    "    \"18\": [[8, 4], [13, 7]],\n",
    "    \"19\": [[8, 1], [9, 8], [14, 5]]\n",
    "}\n",
    "\n",
    "# Save to graph.json\n",
    "with open('graph.json', 'w') as f:\n",
    "    json.dump(graph, f, indent=4)\n",
    "\n",
    "# print(\"graph.json created successfully!\")\n",
    "\n",
    "# Load the graph from the JSON file\n",
    "graph = deserialize_graph('graph.json')\n",
    "# Print the graph structure\n",
    "print(\"Graph structure:\")\n",
    "for node, edges in graph.items():\n",
    "    print(f\"Node {node}: {edges}\")"
   ],
   "outputs": [
    {
     "name": "stdout",
     "output_type": "stream",
     "text": [
      "Graph structure:\n",
      "Node 0: [[1, 4], [2, 3], [3, 5]]\n",
      "Node 1: [[0, 4], [4, 2], [5, 1]]\n",
      "Node 2: [[0, 3], [6, 8], [7, 2]]\n",
      "Node 3: [[0, 5], [8, 3], [9, 6]]\n",
      "Node 4: [[1, 2], [10, 7], [11, 4]]\n",
      "Node 5: [[1, 1], [12, 5], [13, 9]]\n",
      "Node 6: [[2, 8], [14, 3], [15, 7]]\n",
      "Node 7: [[2, 2], [16, 5], [17, 2]]\n",
      "Node 8: [[3, 3], [18, 4], [19, 1]]\n",
      "Node 9: [[3, 6], [19, 8]]\n",
      "Node 10: [[4, 7], [15, 2]]\n",
      "Node 11: [[4, 4], [16, 3]]\n",
      "Node 12: [[5, 5], [17, 6]]\n",
      "Node 13: [[5, 9], [18, 7]]\n",
      "Node 14: [[6, 3], [19, 5]]\n",
      "Node 15: [[6, 7], [10, 2]]\n",
      "Node 16: [[7, 5], [11, 3]]\n",
      "Node 17: [[7, 2], [12, 6]]\n",
      "Node 18: [[8, 4], [13, 7]]\n",
      "Node 19: [[8, 1], [9, 8], [14, 5]]\n"
     ]
    }
   ],
   "execution_count": 22
  },
  {
   "cell_type": "code",
   "metadata": {
    "ExecuteTime": {
     "end_time": "2025-04-17T15:39:47.033055Z",
     "start_time": "2025-04-17T15:39:47.009544Z"
    }
   },
   "source": [
    "unittests.test_dijkstra_fixed(dijkstra_fixed)"
   ],
   "outputs": [
    {
     "name": "stdout",
     "output_type": "stream",
     "text": [
      "\u001B[92m All tests passed!\n"
     ]
    }
   ],
   "execution_count": 23
  },
  {
   "cell_type": "markdown",
   "metadata": {
    "id": "LBAGRh1QnF29"
   },
   "source": [
    "### Exercise 3 - Debugging a Stack Implementation\n",
    "\n",
    "In this exercise, you are provided with a stack implementation that harbors an inconsistency. Your task is to pinpoint and rectify this inconsistency. It's crucial that this stack functions similarly to a Python list. Therefore, if there is a method common to both the stack and a Python list, they should operate identically. This information is key to identifying the inconsistency.\n",
    "\n",
    "**Instructions**: Ensure that the corrected class includes all the methods found in the original, buggy class, with the inconsistency addressed.\n",
    "\n",
    "**Constraints**: You are not allowed to import any libraries.\n",
    "\n",
    "**Hints**:\n",
    "- Consider asking an LLM for a detailed explanation of how this stack functions and the intended purpose of its methods.\n",
    "- You might also request example cases from an LLM to better understand and test the functionality of the stack."
   ]
  },
  {
   "cell_type": "code",
   "metadata": {
    "ExecuteTime": {
     "end_time": "2025-04-17T15:41:47.874987Z",
     "start_time": "2025-04-17T15:41:47.869447Z"
    }
   },
   "source": [
    "class Stack:\n",
    "    def __init__(self):\n",
    "        self.items = []\n",
    "\n",
    "    def push(self, item):\n",
    "        self.items.append(item)\n",
    "\n",
    "    def pop(self):\n",
    "        if self.items:\n",
    "            return self.items.pop()\n",
    "        else:\n",
    "            return None  \n",
    "\n",
    "    def peek(self):\n",
    "        if self.items:\n",
    "            return self.items[-1]\n",
    "        else:\n",
    "            return None  \n",
    "\n",
    "    def is_empty(self):\n",
    "        return len(self.items) == 0\n",
    "\n",
    "    def size(self):\n",
    "        return len(self.items)"
   ],
   "outputs": [],
   "execution_count": 24
  },
  {
   "cell_type": "code",
   "metadata": {
    "id": "lEjXlLg9lYEU",
    "tags": [
     "graded"
    ],
    "ExecuteTime": {
     "end_time": "2025-04-17T15:44:22.447938Z",
     "start_time": "2025-04-17T15:44:22.441615Z"
    }
   },
   "source": [
    "# Exercise block. Do not change any method/constructor call from the original class.\n",
    "class StackFixed:\n",
    "    def __init__(self):\n",
    "        self.items = []\n",
    "\n",
    "    def push(self, item):\n",
    "        # Check if item is not None before pushing\n",
    "        if item is not None:\n",
    "            self.items.append(item)\n",
    "        else:\n",
    "            raise ValueError(\"Cannot push None to the stack\")\n",
    "\n",
    "    def pop(self):\n",
    "        if self.items:\n",
    "            return self.items.pop()\n",
    "        else:\n",
    "            raise IndexError(\"pop from empty stack\")\n",
    "\n",
    "    def peek(self):\n",
    "        if self.items:\n",
    "            return self.items[-1]\n",
    "        else:\n",
    "            raise IndexError(\"peek from empty stack\")\n",
    "\n",
    "    def is_empty(self):\n",
    "        return len(self.items) == 0\n",
    "\n",
    "    def size(self):\n",
    "        return len(self.items)\n",
    "\n",
    "    def __str__(self):\n",
    "        return str(self.items)"
   ],
   "outputs": [],
   "execution_count": 25
  },
  {
   "cell_type": "code",
   "metadata": {
    "ExecuteTime": {
     "end_time": "2025-04-17T15:44:25.911067Z",
     "start_time": "2025-04-17T15:44:25.905835Z"
    }
   },
   "source": [
    "unittests.test_StackFixed(StackFixed)"
   ],
   "outputs": [
    {
     "name": "stdout",
     "output_type": "stream",
     "text": [
      "\u001B[92m All tests passed!\n"
     ]
    }
   ],
   "execution_count": 26
  },
  {
   "cell_type": "markdown",
   "metadata": {
    "id": "iGU_mvSK7JE2"
   },
   "source": [
    "### Exercise 4 - Buggy linked List\n",
    "\n",
    "In this exercise, a `Node` and a `Doubly Linked List` class is provided. You must find the bug in one method of `Doubly Linked List` class and fix it. The `Node` class is fixed and you **must not** edit it.\n",
    "\n",
    "**Instructions**: The fixed class must have every method that the buggy class has, but with the bug fixed.\n",
    "\n",
    "**Constraints**: No library can be imported.\n",
    "\n",
    "**Hints**: \n",
    "- You may ask an LLM to explain the classes for you.\n",
    "- You may also ask an LLM to make some example cases for you."
   ]
  },
  {
   "cell_type": "code",
   "metadata": {
    "tags": [
     "graded"
    ],
    "ExecuteTime": {
     "end_time": "2025-04-17T15:59:35.514805Z",
     "start_time": "2025-04-17T15:59:35.509635Z"
    }
   },
   "source": [
    "## Do NOT modify this class.\n",
    "class Node:\n",
    "\tdef __init__(self, data):\n",
    "\t\tself.data = data\n",
    "\t\tself.prev = None\n",
    "\t\tself.next = None"
   ],
   "outputs": [],
   "execution_count": 35
  },
  {
   "cell_type": "code",
   "metadata": {
    "id": "Tfe2Ztiu7IVO",
    "ExecuteTime": {
     "end_time": "2025-04-17T15:59:38.460269Z",
     "start_time": "2025-04-17T15:59:38.453583Z"
    }
   },
   "source": [
    "class DoublyLinkedList:\n",
    "\tdef __init__(self):\n",
    "\t\tself.head = None\n",
    "\t\tself.tail = None\n",
    "\n",
    "\tdef add_node(self, data):\n",
    "\t\tnew_node = Node(data)\n",
    "\t\tif not self.head:\n",
    "\t\t\tself.head = new_node\n",
    "\t\t\tself.tail = new_node\n",
    "\t\telse:\n",
    "\t\t\tself.tail.next = new_node\n",
    "\t\t\tnew_node.prev = self.tail\n",
    "\t\t\tself.tail = new_node\n",
    "\t\treturn new_node\n",
    "\n",
    "\tdef link_nodes(self, node1, node2):\n",
    "\t\tnode1.next = node2\n",
    "\t\tnode2.prev = node1\n",
    "\n",
    "\tdef traverse(self):\n",
    "\t\tvisited = []\n",
    "\t\tcurrent = self.head\n",
    "\t\twhile current:\n",
    "\t\t\tvisited.append(current)\n",
    "\t\t\tcurrent = current.next\n",
    "\t\treturn visited"
   ],
   "outputs": [],
   "execution_count": 36
  },
  {
   "cell_type": "code",
   "metadata": {
    "tags": [
     "graded"
    ],
    "ExecuteTime": {
     "end_time": "2025-04-17T16:00:13.771706Z",
     "start_time": "2025-04-17T16:00:13.763894Z"
    }
   },
   "source": [
    "# Graded block. Do not change the input of any method/constructor already implemented.\n",
    "\n",
    "class DoublyLinkedListFixed:\n",
    "    def __init__(self):\n",
    "        self.head = None\n",
    "        self.tail = None\n",
    "\n",
    "\n",
    "    def add_node(self, data):\n",
    "        new_node = Node(data)\n",
    "        if not self.head:\n",
    "            self.head = new_node\n",
    "            self.tail = new_node\n",
    "        else:\n",
    "            self.tail.next = new_node\n",
    "            new_node.prev = self.tail\n",
    "            self.tail = new_node\n",
    "        return new_node\n",
    "\n",
    "    def link_nodes(self, node1, node2):\n",
    "        node1.next = node2\n",
    "        node2.prev = node1\n",
    "\n",
    "    def traverse(self):\n",
    "        if not self.head:\n",
    "            return []\n",
    "\n",
    "        visited = []\n",
    "        current = self.head\n",
    "        visited_nodes = set()  # Track visited nodes to detect cycles\n",
    "\n",
    "        while current and id(current) not in visited_nodes:\n",
    "            visited.append(current)\n",
    "            visited_nodes.add(id(current))  # Mark the node as visited\n",
    "            current = current.next\n",
    "\n",
    "            # If we've seen all nodes or detected a cycle, stop\n",
    "            if current is Node or id(current) in visited_nodes:\n",
    "                break\n",
    "\n",
    "        return visited"
   ],
   "outputs": [],
   "execution_count": 37
  },
  {
   "cell_type": "code",
   "metadata": {},
   "source": [
    "unittests.test_DoublyLinkedListFixed(DoublyLinkedListFixed)"
   ],
   "outputs": [],
   "execution_count": null
  },
  {
   "cell_type": "markdown",
   "metadata": {},
   "source": [
    "Congratulations! You've completed the first assignment in the Generative AI for Software Development - Team Software Engineering course. Keep up the good work!"
   ]
  }
 ],
 "metadata": {
  "colab": {
   "provenance": []
  },
  "grader_version": "1",
  "kernelspec": {
   "display_name": "Python 3 (ipykernel)",
   "language": "python",
   "name": "python3"
  },
  "language_info": {
   "codemirror_mode": {
    "name": "ipython",
    "version": 3
   },
   "file_extension": ".py",
   "mimetype": "text/x-python",
   "name": "python",
   "nbconvert_exporter": "python",
   "pygments_lexer": "ipython3",
   "version": "3.11.9"
  }
 },
 "nbformat": 4,
 "nbformat_minor": 4
}
