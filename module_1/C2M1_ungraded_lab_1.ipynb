{
 "cells": [
  {
   "cell_type": "markdown",
   "id": "1d5d2f64-2c02-4976-b2b7-2c66d9bc11ee",
   "metadata": {},
   "source": [
    "# Flask Example Ungraded Lab"
   ]
  },
  {
   "cell_type": "code",
   "id": "beb8efce-b777-4ccd-ab47-651c6ebf4f6d",
   "metadata": {
    "ExecuteTime": {
     "end_time": "2025-04-17T04:00:55.560524Z",
     "start_time": "2025-04-17T04:00:53.968807Z"
    }
   },
   "source": [
    "from flask import Flask, request, jsonify\n",
    "from flask_sqlalchemy import SQLAlchemy\n",
    "from marshmallow import Schema, fields, validate, ValidationError\n",
    "from werkzeug.security import generate_password_hash, check_password_hash\n",
    "import threading\n",
    "\n",
    "app = Flask(__name__)\n",
    "app.config['SQLALCHEMY_DATABASE_URI'] = 'sqlite:///users.db'\n",
    "app.config['SQLALCHEMY_TRACK_MODIFICATIONS'] = False\n",
    "db = SQLAlchemy(app)\n",
    "\n",
    "class User(db.Model):\n",
    "    id = db.Column(db.Integer, primary_key=True)\n",
    "    username = db.Column(db.String(80), unique=True, nullable=False)\n",
    "    password = db.Column(db.String(120), nullable=False)\n",
    "\n",
    "class UserSchema(Schema):\n",
    "    id = fields.Int(dump_only=True)\n",
    "    username = fields.Str(required=True, validate=validate.Length(min=1, max=80))\n",
    "    password = fields.Str(required=True, validate=validate.Length(min=6))\n",
    "\n",
    "user_schema = UserSchema()\n",
    "users_schema = UserSchema(many=True)\n",
    "\n",
    "with app.app_context():\n",
    "    db.create_all()\n",
    "\n",
    "@app.route('/')\n",
    "def home():\n",
    "    return \"Welcome to the Security Testing Demo!\"\n",
    "\n",
    "@app.route('/users', methods=['GET'])\n",
    "def get_users():\n",
    "    try:\n",
    "        users = User.query.all()\n",
    "        result =  users_schema.dump(users)\n",
    "        return jsonify(result)\n",
    "    except Exception as e:\n",
    "        return jsonify({\"message\": \"An error occurred while fetching users\", \"error\": str(e)}), 500\n",
    "\n",
    "\n",
    "@app.route('/user/<int:id>', methods=['GET'])\n",
    "def get_user(id):\n",
    "    user = User.query.get(id)\n",
    "    if user:\n",
    "      result = user_schema.dump(user)\n",
    "      return jsonify(result)\n",
    "    return jsonify({\"message\": \"User not found\"}), 404\n",
    "\n",
    "@app.route('/user', methods=['POST'])\n",
    "def add_user():\n",
    "    data = request.get_json()\n",
    "    errors = user_schema.validate(data)\n",
    "    if errors:\n",
    "        return jsonify(errors), 400\n",
    "\n",
    "    hashed_password = generate_password_hash(data['password'])\n",
    "    new_user = User(username=data['username'], password=hashed_password)\n",
    "    db.session.add(new_user)\n",
    "    db.session.commit()\n",
    "    return jsonify({\"message\": \"User added successfully\"}), 201\n",
    "\n",
    "@app.route('/user/<int:id>', methods=['PUT'])\n",
    "def update_user(id):\n",
    "    data = request.get_json()\n",
    "    errors = user_schema.validate(data)\n",
    "    if errors:\n",
    "        return jsonify(errors), 400\n",
    "\n",
    "    user = User.query.get(id)\n",
    "    if user:\n",
    "        user.username = data['username']\n",
    "        user.password = generate_password_hash(data['password'])\n",
    "        db.session.commit()\n",
    "        return jsonify({\"message\": \"User updated successfully\"})\n",
    "    return jsonify({\"message\": \"User not found\"}), 404\n",
    "\n",
    "@app.route('/user/<int:id>', methods=['DELETE'])\n",
    "def delete_user(id):\n",
    "    user = User.query.get(id)\n",
    "    if user:\n",
    "        db.session.delete(user)\n",
    "        db.session.commit()\n",
    "        return jsonify({\"message\": \"User deleted successfully\"})\n",
    "    return jsonify({\"message\": \"User not found\"}), 404\n",
    "\n",
    "threading.Thread(target=app.run, kwargs={'host':'0.0.0.0','port':5000}).start()\n"
   ],
   "outputs": [
    {
     "name": "stdout",
     "output_type": "stream",
     "text": [
      " * Serving Flask app '__main__'\n",
      " * Debug mode: off\n"
     ]
    },
    {
     "name": "stderr",
     "output_type": "stream",
     "text": [
      "WARNING: This is a development server. Do not use it in a production deployment. Use a production WSGI server instead.\n",
      " * Running on all addresses (0.0.0.0)\n",
      " * Running on http://127.0.0.1:5000\n",
      " * Running on http://192.168.1.6:5000\n",
      "Press CTRL+C to quit\n",
      "127.0.0.1 - - [16/Apr/2025 23:01:08] \"POST /user HTTP/1.1\" 400 -\n"
     ]
    }
   ],
   "execution_count": 1
  }
 ],
 "metadata": {
  "kernelspec": {
   "display_name": "Python 3 (ipykernel)",
   "language": "python",
   "name": "python3"
  },
  "language_info": {
   "codemirror_mode": {
    "name": "ipython",
    "version": 3
   },
   "file_extension": ".py",
   "mimetype": "text/x-python",
   "name": "python",
   "nbconvert_exporter": "python",
   "pygments_lexer": "ipython3",
   "version": "3.11.9"
  }
 },
 "nbformat": 4,
 "nbformat_minor": 5
}
